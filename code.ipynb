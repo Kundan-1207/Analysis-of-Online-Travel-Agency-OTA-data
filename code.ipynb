{
 "cells": [
  {
   "cell_type": "code",
   "execution_count": 2,
   "id": "a75b8c34-3ac8-4093-8ac1-90d25c87632d",
   "metadata": {},
   "outputs": [],
   "source": [
    "import pandas as pd\n",
    "import matplotlib.pyplot as plt\n",
    "import seaborn as sns"
   ]
  },
  {
   "cell_type": "code",
   "execution_count": 10,
   "id": "745150dc-75c1-4dcc-bc8f-98b57ed34e06",
   "metadata": {},
   "outputs": [
    {
     "data": {
      "text/html": [
       "<div>\n",
       "<style scoped>\n",
       "    .dataframe tbody tr th:only-of-type {\n",
       "        vertical-align: middle;\n",
       "    }\n",
       "\n",
       "    .dataframe tbody tr th {\n",
       "        vertical-align: top;\n",
       "    }\n",
       "\n",
       "    .dataframe thead th {\n",
       "        text-align: right;\n",
       "    }\n",
       "</style>\n",
       "<table border=\"1\" class=\"dataframe\">\n",
       "  <thead>\n",
       "    <tr style=\"text-align: right;\">\n",
       "      <th></th>\n",
       "      <th>agent_id</th>\n",
       "      <th>supplier_id</th>\n",
       "      <th>Destination</th>\n",
       "      <th>Booking date</th>\n",
       "      <th>pax</th>\n",
       "      <th>booking_status</th>\n",
       "      <th>travel_date</th>\n",
       "      <th>coupon_redeem</th>\n",
       "      <th>Coupon Used?</th>\n",
       "      <th>costprice</th>\n",
       "      <th>markup</th>\n",
       "      <th>selling_price</th>\n",
       "    </tr>\n",
       "  </thead>\n",
       "  <tbody>\n",
       "    <tr>\n",
       "      <th>0</th>\n",
       "      <td>4003</td>\n",
       "      <td>520</td>\n",
       "      <td>Dubai</td>\n",
       "      <td>2024-03-08</td>\n",
       "      <td>10</td>\n",
       "      <td>Confirmed</td>\n",
       "      <td>2024-03-27</td>\n",
       "      <td>1000</td>\n",
       "      <td>Yes</td>\n",
       "      <td>291137.688731</td>\n",
       "      <td>9078.398119</td>\n",
       "      <td>299216.086849</td>\n",
       "    </tr>\n",
       "    <tr>\n",
       "      <th>1</th>\n",
       "      <td>4711</td>\n",
       "      <td>292</td>\n",
       "      <td>Dubai</td>\n",
       "      <td>2024-07-16</td>\n",
       "      <td>1</td>\n",
       "      <td>Confirmed</td>\n",
       "      <td>2024-08-03</td>\n",
       "      <td>500</td>\n",
       "      <td>Yes</td>\n",
       "      <td>31399.560211</td>\n",
       "      <td>14033.499875</td>\n",
       "      <td>44933.060085</td>\n",
       "    </tr>\n",
       "    <tr>\n",
       "      <th>2</th>\n",
       "      <td>3037</td>\n",
       "      <td>864</td>\n",
       "      <td>Dubai</td>\n",
       "      <td>2024-07-16</td>\n",
       "      <td>9</td>\n",
       "      <td>Confirmed</td>\n",
       "      <td>2024-07-27</td>\n",
       "      <td>0</td>\n",
       "      <td>No</td>\n",
       "      <td>295263.854967</td>\n",
       "      <td>87840.292690</td>\n",
       "      <td>383104.147657</td>\n",
       "    </tr>\n",
       "    <tr>\n",
       "      <th>3</th>\n",
       "      <td>1609</td>\n",
       "      <td>430</td>\n",
       "      <td>Bali</td>\n",
       "      <td>2024-03-22</td>\n",
       "      <td>8</td>\n",
       "      <td>Confirmed</td>\n",
       "      <td>2024-04-02</td>\n",
       "      <td>0</td>\n",
       "      <td>No</td>\n",
       "      <td>326273.581726</td>\n",
       "      <td>9186.513831</td>\n",
       "      <td>335460.095557</td>\n",
       "    </tr>\n",
       "    <tr>\n",
       "      <th>4</th>\n",
       "      <td>3364</td>\n",
       "      <td>614</td>\n",
       "      <td>Kerala</td>\n",
       "      <td>2024-05-03</td>\n",
       "      <td>1</td>\n",
       "      <td>Confirmed</td>\n",
       "      <td>2024-07-23</td>\n",
       "      <td>2000</td>\n",
       "      <td>Yes</td>\n",
       "      <td>18327.862098</td>\n",
       "      <td>4574.085301</td>\n",
       "      <td>20901.947399</td>\n",
       "    </tr>\n",
       "    <tr>\n",
       "      <th>...</th>\n",
       "      <td>...</td>\n",
       "      <td>...</td>\n",
       "      <td>...</td>\n",
       "      <td>...</td>\n",
       "      <td>...</td>\n",
       "      <td>...</td>\n",
       "      <td>...</td>\n",
       "      <td>...</td>\n",
       "      <td>...</td>\n",
       "      <td>...</td>\n",
       "      <td>...</td>\n",
       "      <td>...</td>\n",
       "    </tr>\n",
       "    <tr>\n",
       "      <th>23652</th>\n",
       "      <td>1770</td>\n",
       "      <td>675</td>\n",
       "      <td>Kerala</td>\n",
       "      <td>2024-08-26</td>\n",
       "      <td>2</td>\n",
       "      <td>Confirmed</td>\n",
       "      <td>2024-10-23</td>\n",
       "      <td>2000</td>\n",
       "      <td>Yes</td>\n",
       "      <td>34983.171632</td>\n",
       "      <td>3582.979531</td>\n",
       "      <td>36566.151163</td>\n",
       "    </tr>\n",
       "    <tr>\n",
       "      <th>23653</th>\n",
       "      <td>1897</td>\n",
       "      <td>460</td>\n",
       "      <td>Bali</td>\n",
       "      <td>2024-12-07</td>\n",
       "      <td>7</td>\n",
       "      <td>Confirmed</td>\n",
       "      <td>2024-12-16</td>\n",
       "      <td>500</td>\n",
       "      <td>Yes</td>\n",
       "      <td>304801.317801</td>\n",
       "      <td>70697.636045</td>\n",
       "      <td>374998.953847</td>\n",
       "    </tr>\n",
       "    <tr>\n",
       "      <th>23654</th>\n",
       "      <td>2489</td>\n",
       "      <td>256</td>\n",
       "      <td>Bali</td>\n",
       "      <td>2024-10-06</td>\n",
       "      <td>7</td>\n",
       "      <td>Confirmed</td>\n",
       "      <td>2024-10-21</td>\n",
       "      <td>0</td>\n",
       "      <td>No</td>\n",
       "      <td>289118.625592</td>\n",
       "      <td>23648.658063</td>\n",
       "      <td>312767.283655</td>\n",
       "    </tr>\n",
       "    <tr>\n",
       "      <th>23655</th>\n",
       "      <td>1416</td>\n",
       "      <td>834</td>\n",
       "      <td>Maldives</td>\n",
       "      <td>2024-11-29</td>\n",
       "      <td>9</td>\n",
       "      <td>Canceled</td>\n",
       "      <td>2024-12-27</td>\n",
       "      <td>2000</td>\n",
       "      <td>Yes</td>\n",
       "      <td>583481.315117</td>\n",
       "      <td>61167.110490</td>\n",
       "      <td>642648.425607</td>\n",
       "    </tr>\n",
       "    <tr>\n",
       "      <th>23656</th>\n",
       "      <td>1287</td>\n",
       "      <td>430</td>\n",
       "      <td>Kerala</td>\n",
       "      <td>2024-02-14</td>\n",
       "      <td>4</td>\n",
       "      <td>Failed</td>\n",
       "      <td>2024-02-24</td>\n",
       "      <td>2000</td>\n",
       "      <td>Yes</td>\n",
       "      <td>78193.155782</td>\n",
       "      <td>28264.186626</td>\n",
       "      <td>104457.342409</td>\n",
       "    </tr>\n",
       "  </tbody>\n",
       "</table>\n",
       "<p>23657 rows × 12 columns</p>\n",
       "</div>"
      ],
      "text/plain": [
       "       agent_id  supplier_id Destination Booking date  pax booking_status  \\\n",
       "0          4003          520       Dubai   2024-03-08   10      Confirmed   \n",
       "1          4711          292       Dubai   2024-07-16    1      Confirmed   \n",
       "2          3037          864       Dubai   2024-07-16    9      Confirmed   \n",
       "3          1609          430        Bali   2024-03-22    8      Confirmed   \n",
       "4          3364          614      Kerala   2024-05-03    1      Confirmed   \n",
       "...         ...          ...         ...          ...  ...            ...   \n",
       "23652      1770          675      Kerala   2024-08-26    2      Confirmed   \n",
       "23653      1897          460        Bali   2024-12-07    7      Confirmed   \n",
       "23654      2489          256        Bali   2024-10-06    7      Confirmed   \n",
       "23655      1416          834    Maldives   2024-11-29    9       Canceled   \n",
       "23656      1287          430      Kerala   2024-02-14    4         Failed   \n",
       "\n",
       "      travel_date  coupon_redeem Coupon Used?      costprice        markup  \\\n",
       "0      2024-03-27           1000          Yes  291137.688731   9078.398119   \n",
       "1      2024-08-03            500          Yes   31399.560211  14033.499875   \n",
       "2      2024-07-27              0           No  295263.854967  87840.292690   \n",
       "3      2024-04-02              0           No  326273.581726   9186.513831   \n",
       "4      2024-07-23           2000          Yes   18327.862098   4574.085301   \n",
       "...           ...            ...          ...            ...           ...   \n",
       "23652  2024-10-23           2000          Yes   34983.171632   3582.979531   \n",
       "23653  2024-12-16            500          Yes  304801.317801  70697.636045   \n",
       "23654  2024-10-21              0           No  289118.625592  23648.658063   \n",
       "23655  2024-12-27           2000          Yes  583481.315117  61167.110490   \n",
       "23656  2024-02-24           2000          Yes   78193.155782  28264.186626   \n",
       "\n",
       "       selling_price  \n",
       "0      299216.086849  \n",
       "1       44933.060085  \n",
       "2      383104.147657  \n",
       "3      335460.095557  \n",
       "4       20901.947399  \n",
       "...              ...  \n",
       "23652   36566.151163  \n",
       "23653  374998.953847  \n",
       "23654  312767.283655  \n",
       "23655  642648.425607  \n",
       "23656  104457.342409  \n",
       "\n",
       "[23657 rows x 12 columns]"
      ]
     },
     "execution_count": 10,
     "metadata": {},
     "output_type": "execute_result"
    }
   ],
   "source": [
    "file_path = \"Dataset.csv\" \n",
    "df = pd.read_csv(file_path)\n",
    "df"
   ]
  },
  {
   "cell_type": "markdown",
   "id": "1057541f-3e44-4cce-93ef-db95ab4c25b6",
   "metadata": {},
   "source": [
    "## Display the first few rows of the dataset\r\n"
   ]
  },
  {
   "cell_type": "code",
   "execution_count": 14,
   "id": "fec25545-2bf5-4067-a817-8dd8988b8d65",
   "metadata": {},
   "outputs": [
    {
     "data": {
      "text/html": [
       "<div>\n",
       "<style scoped>\n",
       "    .dataframe tbody tr th:only-of-type {\n",
       "        vertical-align: middle;\n",
       "    }\n",
       "\n",
       "    .dataframe tbody tr th {\n",
       "        vertical-align: top;\n",
       "    }\n",
       "\n",
       "    .dataframe thead th {\n",
       "        text-align: right;\n",
       "    }\n",
       "</style>\n",
       "<table border=\"1\" class=\"dataframe\">\n",
       "  <thead>\n",
       "    <tr style=\"text-align: right;\">\n",
       "      <th></th>\n",
       "      <th>agent_id</th>\n",
       "      <th>supplier_id</th>\n",
       "      <th>Destination</th>\n",
       "      <th>Booking date</th>\n",
       "      <th>pax</th>\n",
       "      <th>booking_status</th>\n",
       "      <th>travel_date</th>\n",
       "      <th>coupon_redeem</th>\n",
       "      <th>Coupon Used?</th>\n",
       "      <th>costprice</th>\n",
       "      <th>markup</th>\n",
       "      <th>selling_price</th>\n",
       "    </tr>\n",
       "  </thead>\n",
       "  <tbody>\n",
       "    <tr>\n",
       "      <th>0</th>\n",
       "      <td>4003</td>\n",
       "      <td>520</td>\n",
       "      <td>Dubai</td>\n",
       "      <td>2024-03-08</td>\n",
       "      <td>10</td>\n",
       "      <td>Confirmed</td>\n",
       "      <td>2024-03-27</td>\n",
       "      <td>1000</td>\n",
       "      <td>Yes</td>\n",
       "      <td>291137.688731</td>\n",
       "      <td>9078.398119</td>\n",
       "      <td>299216.086849</td>\n",
       "    </tr>\n",
       "    <tr>\n",
       "      <th>1</th>\n",
       "      <td>4711</td>\n",
       "      <td>292</td>\n",
       "      <td>Dubai</td>\n",
       "      <td>2024-07-16</td>\n",
       "      <td>1</td>\n",
       "      <td>Confirmed</td>\n",
       "      <td>2024-08-03</td>\n",
       "      <td>500</td>\n",
       "      <td>Yes</td>\n",
       "      <td>31399.560211</td>\n",
       "      <td>14033.499875</td>\n",
       "      <td>44933.060085</td>\n",
       "    </tr>\n",
       "    <tr>\n",
       "      <th>2</th>\n",
       "      <td>3037</td>\n",
       "      <td>864</td>\n",
       "      <td>Dubai</td>\n",
       "      <td>2024-07-16</td>\n",
       "      <td>9</td>\n",
       "      <td>Confirmed</td>\n",
       "      <td>2024-07-27</td>\n",
       "      <td>0</td>\n",
       "      <td>No</td>\n",
       "      <td>295263.854967</td>\n",
       "      <td>87840.292690</td>\n",
       "      <td>383104.147657</td>\n",
       "    </tr>\n",
       "    <tr>\n",
       "      <th>3</th>\n",
       "      <td>1609</td>\n",
       "      <td>430</td>\n",
       "      <td>Bali</td>\n",
       "      <td>2024-03-22</td>\n",
       "      <td>8</td>\n",
       "      <td>Confirmed</td>\n",
       "      <td>2024-04-02</td>\n",
       "      <td>0</td>\n",
       "      <td>No</td>\n",
       "      <td>326273.581726</td>\n",
       "      <td>9186.513831</td>\n",
       "      <td>335460.095557</td>\n",
       "    </tr>\n",
       "    <tr>\n",
       "      <th>4</th>\n",
       "      <td>3364</td>\n",
       "      <td>614</td>\n",
       "      <td>Kerala</td>\n",
       "      <td>2024-05-03</td>\n",
       "      <td>1</td>\n",
       "      <td>Confirmed</td>\n",
       "      <td>2024-07-23</td>\n",
       "      <td>2000</td>\n",
       "      <td>Yes</td>\n",
       "      <td>18327.862098</td>\n",
       "      <td>4574.085301</td>\n",
       "      <td>20901.947399</td>\n",
       "    </tr>\n",
       "  </tbody>\n",
       "</table>\n",
       "</div>"
      ],
      "text/plain": [
       "   agent_id  supplier_id Destination Booking date  pax booking_status  \\\n",
       "0      4003          520       Dubai   2024-03-08   10      Confirmed   \n",
       "1      4711          292       Dubai   2024-07-16    1      Confirmed   \n",
       "2      3037          864       Dubai   2024-07-16    9      Confirmed   \n",
       "3      1609          430        Bali   2024-03-22    8      Confirmed   \n",
       "4      3364          614      Kerala   2024-05-03    1      Confirmed   \n",
       "\n",
       "  travel_date  coupon_redeem Coupon Used?      costprice        markup  \\\n",
       "0  2024-03-27           1000          Yes  291137.688731   9078.398119   \n",
       "1  2024-08-03            500          Yes   31399.560211  14033.499875   \n",
       "2  2024-07-27              0           No  295263.854967  87840.292690   \n",
       "3  2024-04-02              0           No  326273.581726   9186.513831   \n",
       "4  2024-07-23           2000          Yes   18327.862098   4574.085301   \n",
       "\n",
       "   selling_price  \n",
       "0  299216.086849  \n",
       "1   44933.060085  \n",
       "2  383104.147657  \n",
       "3  335460.095557  \n",
       "4   20901.947399  "
      ]
     },
     "execution_count": 14,
     "metadata": {},
     "output_type": "execute_result"
    }
   ],
   "source": [
    "df.head(5)"
   ]
  },
  {
   "cell_type": "markdown",
   "id": "0fca6065-6f76-4e3b-91d7-f17069257054",
   "metadata": {},
   "source": [
    "## Basic information about the dataset\n"
   ]
  },
  {
   "cell_type": "code",
   "execution_count": 16,
   "id": "26fbf676-9dc3-46bc-b67d-ac6cdbc621a1",
   "metadata": {},
   "outputs": [
    {
     "name": "stdout",
     "output_type": "stream",
     "text": [
      "<class 'pandas.core.frame.DataFrame'>\n",
      "RangeIndex: 23657 entries, 0 to 23656\n",
      "Data columns (total 12 columns):\n",
      " #   Column          Non-Null Count  Dtype  \n",
      "---  ------          --------------  -----  \n",
      " 0   agent_id        23657 non-null  int64  \n",
      " 1   supplier_id     23657 non-null  int64  \n",
      " 2   Destination     23657 non-null  object \n",
      " 3   Booking date    23657 non-null  object \n",
      " 4   pax             23657 non-null  int64  \n",
      " 5   booking_status  23657 non-null  object \n",
      " 6   travel_date     23657 non-null  object \n",
      " 7   coupon_redeem   23657 non-null  int64  \n",
      " 8   Coupon Used?    23657 non-null  object \n",
      " 9   costprice       23657 non-null  float64\n",
      " 10  markup          23657 non-null  float64\n",
      " 11  selling_price   23657 non-null  float64\n",
      "dtypes: float64(3), int64(4), object(5)\n",
      "memory usage: 2.2+ MB\n"
     ]
    }
   ],
   "source": [
    "df.info()"
   ]
  },
  {
   "cell_type": "markdown",
   "id": "fae4d4c5-9862-4b3d-9f7f-b14df1804e43",
   "metadata": {},
   "source": [
    "## Descriptive statistics\r\n"
   ]
  },
  {
   "cell_type": "code",
   "execution_count": 18,
   "id": "0abadec9-6c20-4ee1-acb2-3cc111b26628",
   "metadata": {},
   "outputs": [
    {
     "data": {
      "text/html": [
       "<div>\n",
       "<style scoped>\n",
       "    .dataframe tbody tr th:only-of-type {\n",
       "        vertical-align: middle;\n",
       "    }\n",
       "\n",
       "    .dataframe tbody tr th {\n",
       "        vertical-align: top;\n",
       "    }\n",
       "\n",
       "    .dataframe thead th {\n",
       "        text-align: right;\n",
       "    }\n",
       "</style>\n",
       "<table border=\"1\" class=\"dataframe\">\n",
       "  <thead>\n",
       "    <tr style=\"text-align: right;\">\n",
       "      <th></th>\n",
       "      <th>agent_id</th>\n",
       "      <th>supplier_id</th>\n",
       "      <th>pax</th>\n",
       "      <th>coupon_redeem</th>\n",
       "      <th>costprice</th>\n",
       "      <th>markup</th>\n",
       "      <th>selling_price</th>\n",
       "    </tr>\n",
       "  </thead>\n",
       "  <tbody>\n",
       "    <tr>\n",
       "      <th>count</th>\n",
       "      <td>23657.000000</td>\n",
       "      <td>23657.000000</td>\n",
       "      <td>23657.000000</td>\n",
       "      <td>23657.000000</td>\n",
       "      <td>23657.000000</td>\n",
       "      <td>23657.000000</td>\n",
       "      <td>23657.000000</td>\n",
       "    </tr>\n",
       "    <tr>\n",
       "      <th>mean</th>\n",
       "      <td>3000.966141</td>\n",
       "      <td>599.875259</td>\n",
       "      <td>5.509828</td>\n",
       "      <td>870.503445</td>\n",
       "      <td>183091.706969</td>\n",
       "      <td>40804.353379</td>\n",
       "      <td>223025.556903</td>\n",
       "    </tr>\n",
       "    <tr>\n",
       "      <th>std</th>\n",
       "      <td>1152.284728</td>\n",
       "      <td>231.730114</td>\n",
       "      <td>2.868997</td>\n",
       "      <td>742.808416</td>\n",
       "      <td>124467.192885</td>\n",
       "      <td>44645.917013</td>\n",
       "      <td>156028.902350</td>\n",
       "    </tr>\n",
       "    <tr>\n",
       "      <th>min</th>\n",
       "      <td>1000.000000</td>\n",
       "      <td>200.000000</td>\n",
       "      <td>1.000000</td>\n",
       "      <td>0.000000</td>\n",
       "      <td>16215.849131</td>\n",
       "      <td>-26957.905804</td>\n",
       "      <td>14185.951872</td>\n",
       "    </tr>\n",
       "    <tr>\n",
       "      <th>25%</th>\n",
       "      <td>2008.000000</td>\n",
       "      <td>401.000000</td>\n",
       "      <td>3.000000</td>\n",
       "      <td>0.000000</td>\n",
       "      <td>85400.842694</td>\n",
       "      <td>8529.627745</td>\n",
       "      <td>104037.841695</td>\n",
       "    </tr>\n",
       "    <tr>\n",
       "      <th>50%</th>\n",
       "      <td>3007.000000</td>\n",
       "      <td>599.000000</td>\n",
       "      <td>6.000000</td>\n",
       "      <td>500.000000</td>\n",
       "      <td>159684.689381</td>\n",
       "      <td>27255.420743</td>\n",
       "      <td>190400.814247</td>\n",
       "    </tr>\n",
       "    <tr>\n",
       "      <th>75%</th>\n",
       "      <td>3991.000000</td>\n",
       "      <td>802.000000</td>\n",
       "      <td>8.000000</td>\n",
       "      <td>2000.000000</td>\n",
       "      <td>252587.392619</td>\n",
       "      <td>59949.699009</td>\n",
       "      <td>306221.588994</td>\n",
       "    </tr>\n",
       "    <tr>\n",
       "      <th>max</th>\n",
       "      <td>5000.000000</td>\n",
       "      <td>1000.000000</td>\n",
       "      <td>10.000000</td>\n",
       "      <td>2000.000000</td>\n",
       "      <td>659897.340328</td>\n",
       "      <td>322518.208625</td>\n",
       "      <td>978622.372539</td>\n",
       "    </tr>\n",
       "  </tbody>\n",
       "</table>\n",
       "</div>"
      ],
      "text/plain": [
       "           agent_id   supplier_id           pax  coupon_redeem      costprice  \\\n",
       "count  23657.000000  23657.000000  23657.000000   23657.000000   23657.000000   \n",
       "mean    3000.966141    599.875259      5.509828     870.503445  183091.706969   \n",
       "std     1152.284728    231.730114      2.868997     742.808416  124467.192885   \n",
       "min     1000.000000    200.000000      1.000000       0.000000   16215.849131   \n",
       "25%     2008.000000    401.000000      3.000000       0.000000   85400.842694   \n",
       "50%     3007.000000    599.000000      6.000000     500.000000  159684.689381   \n",
       "75%     3991.000000    802.000000      8.000000    2000.000000  252587.392619   \n",
       "max     5000.000000   1000.000000     10.000000    2000.000000  659897.340328   \n",
       "\n",
       "              markup  selling_price  \n",
       "count   23657.000000   23657.000000  \n",
       "mean    40804.353379  223025.556903  \n",
       "std     44645.917013  156028.902350  \n",
       "min    -26957.905804   14185.951872  \n",
       "25%      8529.627745  104037.841695  \n",
       "50%     27255.420743  190400.814247  \n",
       "75%     59949.699009  306221.588994  \n",
       "max    322518.208625  978622.372539  "
      ]
     },
     "execution_count": 18,
     "metadata": {},
     "output_type": "execute_result"
    }
   ],
   "source": [
    "df.describe()\n"
   ]
  },
  {
   "cell_type": "markdown",
   "id": "fbb71ca9-1002-403c-ad52-d8fe296698ae",
   "metadata": {},
   "source": [
    "# 1. Identify 3 short-term or long-term data observations\r\n"
   ]
  },
  {
   "cell_type": "markdown",
   "id": "e8a8e0ab-a0e8-4198-9cec-10388bacc891",
   "metadata": {},
   "source": [
    "## Observation 1: Booking Status Distribution\r\n"
   ]
  },
  {
   "cell_type": "code",
   "execution_count": 11,
   "id": "cc45f407-61f3-4f05-a405-26b7d96ce3fb",
   "metadata": {},
   "outputs": [
    {
     "name": "stdout",
     "output_type": "stream",
     "text": [
      "Booking Status Distribution:\n",
      "booking_status\n",
      "Confirmed    17732\n",
      "Canceled      3530\n",
      "Failed        2395\n",
      "Name: count, dtype: int64\n"
     ]
    }
   ],
   "source": [
    "booking_status_distribution = df['booking_status'].value_counts()\n",
    "print(\"Booking Status Distribution:\")\n",
    "print(booking_status_distribution)\n"
   ]
  },
  {
   "cell_type": "markdown",
   "id": "0fec2354-1c3a-485e-a562-94c33c1e51d8",
   "metadata": {},
   "source": [
    "## Visualization 1: Booking Status Distribution"
   ]
  },
  {
   "cell_type": "code",
   "execution_count": 13,
   "id": "39c99be5-abf2-4132-8e81-db9b2b073762",
   "metadata": {},
   "outputs": [
    {
     "data": {
      "image/png": "[encoded data removed]",
      "text/plain": [
       "<Figure size 600x400 with 1 Axes>"
      ]
     },
     "metadata": {},
     "output_type": "display_data"
    }
   ],
   "source": [
    "plt.figure(figsize=(6, 4))\n",
    "sns.countplot(x='booking_status', data=df, order=df['booking_status'].value_counts().index)\n",
    "plt.title('Booking Status Distribution')\n",
    "plt.xlabel('Booking Status')\n",
    "plt.ylabel('Count')\n",
    "plt.savefig(\"Booking Status Distribution graph.png\",dpi = 500)\n",
    "plt.show()"
   ]
  },
  {
   "cell_type": "markdown",
   "id": "cda295f6-7c87-41d4-9a0d-e689156e3397",
   "metadata": {},
   "source": [
    "## Observation 2: Identify negative markup values\n"
   ]
  },
  {
   "cell_type": "code",
   "execution_count": 15,
   "id": "0a548584-c9e1-400a-94e4-22f0d724ea4d",
   "metadata": {},
   "outputs": [
    {
     "name": "stdout",
     "output_type": "stream",
     "text": [
      "Percentage bookings with negative markup value: 9.48%\n"
     ]
    }
   ],
   "source": [
    "negative_markup_percentage = (df[\"markup\"] < 0).sum() / len(df) * 100\n",
    "print(f\"Percentage bookings with negative markup value: {negative_markup_percentage:.2f}%\")"
   ]
  },
  {
   "cell_type": "markdown",
   "id": "231d5078-0b7c-4940-bb1f-d92e7c868a64",
   "metadata": {},
   "source": [
    "## Visualization 2: Distribution of Markup Values\n"
   ]
  },
  {
   "cell_type": "code",
   "execution_count": 17,
   "id": "1429033d-7574-41ca-b717-7d59c4bf2ab4",
   "metadata": {},
   "outputs": [
    {
     "data": {
      "image/png": "[encoded data removed]",
      "text/plain": [
       "<Figure size 1000x500 with 1 Axes>"
      ]
     },
     "metadata": {},
     "output_type": "display_data"
    }
   ],
   "source": [
    "plt.figure(figsize=(10, 5))\n",
    "sns.histplot(df[\"markup\"], bins=50, kde=True, color='green')\n",
    "plt.axvline(0, color='red', linestyle='--', label=\"Break-even Line\")\n",
    "plt.title(\"Distribution of Markup Values\")\n",
    "plt.xlabel(\"Markup Amount\")\n",
    "plt.ylabel(\"Frequency\")\n",
    "plt.legend()\n",
    "plt.savefig(\"Distribution of Markup Values.png\",dpi = 500)\n",
    "plt.show()"
   ]
  },
  {
   "cell_type": "markdown",
   "id": "b0013afb-95d4-4434-bc07-4b3347dcfd68",
   "metadata": {},
   "source": [
    "## Observation 3: Coupon Usage Analysis\r\n"
   ]
  },
  {
   "cell_type": "code",
   "execution_count": 19,
   "id": "abe55191-d375-48d4-93a6-224a2b8b91f0",
   "metadata": {},
   "outputs": [
    {
     "name": "stdout",
     "output_type": "stream",
     "text": [
      "Coupon Usage Analysis:\n",
      "Coupon Used?\n",
      "Yes    17603\n",
      "No      6054\n",
      "Name: count, dtype: int64\n",
      "Coupon Usage Distribution as percentage:\n",
      " Coupon Used?\n",
      "Yes    74.409266\n",
      "No     25.590734\n",
      "Name: proportion, dtype: float64\n"
     ]
    }
   ],
   "source": [
    "coupon_usage = df['Coupon Used?'].value_counts()\n",
    "coupon_usage_counts = df[\"Coupon Used?\"].value_counts(normalize=True) * 100\n",
    "print(\"Coupon Usage Analysis:\")\n",
    "print(coupon_usage)\n",
    "print(\"Coupon Usage Distribution as percentage:\\n\", coupon_usage_counts)"
   ]
  },
  {
   "cell_type": "markdown",
   "id": "aec7bd18-b460-4b76-8368-5790d91a7cdb",
   "metadata": {},
   "source": [
    "## Visualization 3: Coupon Usage Analysis\r\n"
   ]
  },
  {
   "cell_type": "code",
   "execution_count": 21,
   "id": "7434231a-2f86-4977-9b89-7f4daf3d14dd",
   "metadata": {},
   "outputs": [
    {
     "name": "stderr",
     "output_type": "stream",
     "text": [
      "C:\\Users\\vivek\\AppData\\Local\\Temp\\ipykernel_10484\\3581491463.py:2: FutureWarning: \n",
      "\n",
      "Passing `palette` without assigning `hue` is deprecated and will be removed in v0.14.0. Assign the `x` variable to `hue` and set `legend=False` for the same effect.\n",
      "\n",
      "  sns.countplot(x='Coupon Used?', data=df,palette=\"viridis\")\n"
     ]
    },
    {
     "data": {
      "image/png": "[encoded data removed]",
      "text/plain": [
       "<Figure size 800x400 with 1 Axes>"
      ]
     },
     "metadata": {},
     "output_type": "display_data"
    }
   ],
   "source": [
    "plt.figure(figsize=(8, 4))\n",
    "sns.countplot(x='Coupon Used?', data=df,palette=\"viridis\")\n",
    "plt.title('Coupon Usage Analysis')\n",
    "plt.xlabel('Coupon Used?')\n",
    "plt.ylabel('Count')\n",
    "plt.savefig(\"Coupon Usage Analysis graph.png\",dpi = 500)\n",
    "plt.show()"
   ]
  },
  {
   "cell_type": "code",
   "execution_count": null,
   "id": "63a73cf3-a855-4d27-ae07-9fdbc35b2b5d",
   "metadata": {},
   "outputs": [],
   "source": []
  }
 ],
 "metadata": {
  "kernelspec": {
   "display_name": "Python 3 (ipykernel)",
   "language": "python",
   "name": "python3"
  },
  "language_info": {
   "codemirror_mode": {
    "name": "ipython",
    "version": 3
   },
   "file_extension": ".py",
   "mimetype": "text/x-python",
   "name": "python",
   "nbconvert_exporter": "python",
   "pygments_lexer": "ipython3",
   "version": "3.12.4"
  }
 },
 "nbformat": 4,
 "nbformat_minor": 5
}
